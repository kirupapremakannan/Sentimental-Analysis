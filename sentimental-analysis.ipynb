{
  "metadata": {
    "kernelspec": {
      "language": "python",
      "display_name": "Python 3",
      "name": "python3"
    },
    "language_info": {
      "name": "python",
      "version": "3.10.13",
      "mimetype": "text/x-python",
      "codemirror_mode": {
        "name": "ipython",
        "version": 3
      },
      "pygments_lexer": "ipython3",
      "nbconvert_exporter": "python",
      "file_extension": ".py"
    },
    "kaggle": {
      "accelerator": "none",
      "dataSources": [
        {
          "sourceId": 320111,
          "sourceType": "datasetVersion",
          "datasetId": 134715
        }
      ],
      "dockerImageVersionId": 30698,
      "isInternetEnabled": false,
      "language": "python",
      "sourceType": "notebook",
      "isGpuEnabled": false
    },
    "colab": {
      "name": "notebook3d69ac3d54",
      "provenance": [],
      "include_colab_link": true
    }
  },
  "nbformat_minor": 0,
  "nbformat": 4,
  "cells": [
    {
      "cell_type": "markdown",
      "metadata": {
        "id": "view-in-github",
        "colab_type": "text"
      },
      "source": [
        "<a href=\"https://colab.research.google.com/github/kirupapremakannan/Sentimental-Analysis_HackmastersUnited/blob/main/sentimental-analysis.ipynb\" target=\"_parent\"><img src=\"https://colab.research.google.com/assets/colab-badge.svg\" alt=\"Open In Colab\"/></a>"
      ]
    },
    {
      "source": [
        "\n",
        "# IMPORTANT: RUN THIS CELL IN ORDER TO IMPORT YOUR KAGGLE DATA SOURCES\n",
        "# TO THE CORRECT LOCATION (/kaggle/input) IN YOUR NOTEBOOK,\n",
        "# THEN FEEL FREE TO DELETE THIS CELL.\n",
        "# NOTE: THIS NOTEBOOK ENVIRONMENT DIFFERS FROM KAGGLE'S PYTHON\n",
        "# ENVIRONMENT SO THERE MAY BE MISSING LIBRARIES USED BY YOUR\n",
        "# NOTEBOOK.\n",
        "\n",
        "import os\n",
        "import sys\n",
        "from tempfile import NamedTemporaryFile\n",
        "from urllib.request import urlopen\n",
        "from urllib.parse import unquote, urlparse\n",
        "from urllib.error import HTTPError\n",
        "from zipfile import ZipFile\n",
        "import tarfile\n",
        "import shutil\n",
        "\n",
        "CHUNK_SIZE = 40960\n",
        "DATA_SOURCE_MAPPING = 'imdb-dataset-of-50k-movie-reviews:https%3A%2F%2Fstorage.googleapis.com%2Fkaggle-data-sets%2F134715%2F320111%2Fbundle%2Farchive.zip%3FX-Goog-Algorithm%3DGOOG4-RSA-SHA256%26X-Goog-Credential%3Dgcp-kaggle-com%2540kaggle-161607.iam.gserviceaccount.com%252F20240430%252Fauto%252Fstorage%252Fgoog4_request%26X-Goog-Date%3D20240430T094204Z%26X-Goog-Expires%3D259200%26X-Goog-SignedHeaders%3Dhost%26X-Goog-Signature%3D4078757e086060ae17a73dc7d297746d89b94fbd775d4b1cde7b5a138e3dfa0b1160cb56f9fccc170f265d970c00bb9b9eedf6daccd0bd1e39a0d81006c9cbe0eef89393d0f8671aa90f0f5d469baecf142dc2f9a3ca59c6726c710583b46afc5e760450ece0069423c8aafc5f3e68f3633f264b9d0aedef1443e53831113ad60bb1d7ee3825cbfd6713d5cc0b295f35500c1a1d33e1f61b1e0afdb31fbc851d41c4fe49e04753936a515821dd84e6e446640070385d565195b1c6a273131727588384670562a202bef4e526f444a4e488eeba548319de9bbc3db492285a8162fc7f7ccec5f98dcf7d181c760c0ca12900568e3f7b2dfaaa43683d982f75db97'\n",
        "\n",
        "KAGGLE_INPUT_PATH='/kaggle/input'\n",
        "KAGGLE_WORKING_PATH='/kaggle/working'\n",
        "KAGGLE_SYMLINK='kaggle'\n",
        "\n",
        "!umount /kaggle/input/ 2> /dev/null\n",
        "shutil.rmtree('/kaggle/input', ignore_errors=True)\n",
        "os.makedirs(KAGGLE_INPUT_PATH, 0o777, exist_ok=True)\n",
        "os.makedirs(KAGGLE_WORKING_PATH, 0o777, exist_ok=True)\n",
        "\n",
        "try:\n",
        "  os.symlink(KAGGLE_INPUT_PATH, os.path.join(\"..\", 'input'), target_is_directory=True)\n",
        "except FileExistsError:\n",
        "  pass\n",
        "try:\n",
        "  os.symlink(KAGGLE_WORKING_PATH, os.path.join(\"..\", 'working'), target_is_directory=True)\n",
        "except FileExistsError:\n",
        "  pass\n",
        "\n",
        "for data_source_mapping in DATA_SOURCE_MAPPING.split(','):\n",
        "    directory, download_url_encoded = data_source_mapping.split(':')\n",
        "    download_url = unquote(download_url_encoded)\n",
        "    filename = urlparse(download_url).path\n",
        "    destination_path = os.path.join(KAGGLE_INPUT_PATH, directory)\n",
        "    try:\n",
        "        with urlopen(download_url) as fileres, NamedTemporaryFile() as tfile:\n",
        "            total_length = fileres.headers['content-length']\n",
        "            print(f'Downloading {directory}, {total_length} bytes compressed')\n",
        "            dl = 0\n",
        "            data = fileres.read(CHUNK_SIZE)\n",
        "            while len(data) > 0:\n",
        "                dl += len(data)\n",
        "                tfile.write(data)\n",
        "                done = int(50 * dl / int(total_length))\n",
        "                sys.stdout.write(f\"\\r[{'=' * done}{' ' * (50-done)}] {dl} bytes downloaded\")\n",
        "                sys.stdout.flush()\n",
        "                data = fileres.read(CHUNK_SIZE)\n",
        "            if filename.endswith('.zip'):\n",
        "              with ZipFile(tfile) as zfile:\n",
        "                zfile.extractall(destination_path)\n",
        "            else:\n",
        "              with tarfile.open(tfile.name) as tarfile:\n",
        "                tarfile.extractall(destination_path)\n",
        "            print(f'\\nDownloaded and uncompressed: {directory}')\n",
        "    except HTTPError as e:\n",
        "        print(f'Failed to load (likely expired) {download_url} to path {destination_path}')\n",
        "        continue\n",
        "    except OSError as e:\n",
        "        print(f'Failed to load {download_url} to path {destination_path}')\n",
        "        continue\n",
        "\n",
        "print('Data source import complete.')\n"
      ],
      "metadata": {
        "id": "KuLuNyQxbtVv"
      },
      "cell_type": "code",
      "outputs": [],
      "execution_count": null
    },
    {
      "cell_type": "code",
      "source": [
        "import os\n",
        "import numpy as np\n",
        "import pandas as pd\n",
        "import matplotlib.pyplot as plt\n",
        "from sklearn.model_selection import train_test_split\n",
        "from tensorflow.keras.preprocessing.text import Tokenizer\n",
        "from tensorflow.keras.preprocessing.sequence import pad_sequences\n",
        "from tensorflow.keras.models import Sequential\n",
        "from tensorflow.keras.layers import LSTM, Dense, Embedding, Bidirectional\n",
        "from tensorflow.keras.callbacks import EarlyStopping, ModelCheckpoint"
      ],
      "metadata": {
        "_uuid": "8f2839f25d086af736a60e9eeb907d3b93b6e0e5",
        "_cell_guid": "b1076dfc-b9ad-4769-8c92-a6c4dae69d19",
        "execution": {
          "iopub.status.busy": "2024-04-30T09:32:09.231396Z",
          "iopub.execute_input": "2024-04-30T09:32:09.231788Z",
          "iopub.status.idle": "2024-04-30T09:32:09.238411Z",
          "shell.execute_reply.started": "2024-04-30T09:32:09.231758Z",
          "shell.execute_reply": "2024-04-30T09:32:09.237192Z"
        },
        "trusted": true,
        "id": "mPddTzTHbtVx"
      },
      "execution_count": null,
      "outputs": []
    },
    {
      "cell_type": "code",
      "source": [
        "reviews = pd.read_csv('/kaggle/input/imdb-dataset-of-50k-movie-reviews/IMDB Dataset.csv')\n",
        "reviews.head()"
      ],
      "metadata": {
        "execution": {
          "iopub.status.busy": "2024-04-30T09:32:09.24004Z",
          "iopub.execute_input": "2024-04-30T09:32:09.24074Z",
          "iopub.status.idle": "2024-04-30T09:32:09.969825Z",
          "shell.execute_reply.started": "2024-04-30T09:32:09.240676Z",
          "shell.execute_reply": "2024-04-30T09:32:09.968724Z"
        },
        "trusted": true,
        "id": "knpwIQZQbtVy",
        "outputId": "1be2eb35-0465-461e-9b1a-e5d1b289ba4c"
      },
      "execution_count": null,
      "outputs": [
        {
          "execution_count": 81,
          "output_type": "execute_result",
          "data": {
            "text/plain": "                                              review sentiment\n0  One of the other reviewers has mentioned that ...  positive\n1  A wonderful little production. <br /><br />The...  positive\n2  I thought this was a wonderful way to spend ti...  positive\n3  Basically there's a family where a little boy ...  negative\n4  Petter Mattei's \"Love in the Time of Money\" is...  positive",
            "text/html": "<div>\n<style scoped>\n    .dataframe tbody tr th:only-of-type {\n        vertical-align: middle;\n    }\n\n    .dataframe tbody tr th {\n        vertical-align: top;\n    }\n\n    .dataframe thead th {\n        text-align: right;\n    }\n</style>\n<table border=\"1\" class=\"dataframe\">\n  <thead>\n    <tr style=\"text-align: right;\">\n      <th></th>\n      <th>review</th>\n      <th>sentiment</th>\n    </tr>\n  </thead>\n  <tbody>\n    <tr>\n      <th>0</th>\n      <td>One of the other reviewers has mentioned that ...</td>\n      <td>positive</td>\n    </tr>\n    <tr>\n      <th>1</th>\n      <td>A wonderful little production. &lt;br /&gt;&lt;br /&gt;The...</td>\n      <td>positive</td>\n    </tr>\n    <tr>\n      <th>2</th>\n      <td>I thought this was a wonderful way to spend ti...</td>\n      <td>positive</td>\n    </tr>\n    <tr>\n      <th>3</th>\n      <td>Basically there's a family where a little boy ...</td>\n      <td>negative</td>\n    </tr>\n    <tr>\n      <th>4</th>\n      <td>Petter Mattei's \"Love in the Time of Money\" is...</td>\n      <td>positive</td>\n    </tr>\n  </tbody>\n</table>\n</div>"
          },
          "metadata": {}
        }
      ]
    },
    {
      "cell_type": "code",
      "source": [
        "reviews['sentiment'] = np.where(reviews['sentiment'] == 'positive', 1, 0)\n"
      ],
      "metadata": {
        "execution": {
          "iopub.status.busy": "2024-04-30T09:32:09.971195Z",
          "iopub.execute_input": "2024-04-30T09:32:09.971799Z",
          "iopub.status.idle": "2024-04-30T09:32:09.983171Z",
          "shell.execute_reply.started": "2024-04-30T09:32:09.971766Z",
          "shell.execute_reply": "2024-04-30T09:32:09.981922Z"
        },
        "trusted": true,
        "id": "WAa_QCUTbtVz"
      },
      "execution_count": null,
      "outputs": []
    },
    {
      "cell_type": "code",
      "source": [
        "sentences = reviews['review'].to_numpy()\n",
        "labels = reviews['sentiment'].to_numpy()"
      ],
      "metadata": {
        "execution": {
          "iopub.status.busy": "2024-04-30T09:32:09.985821Z",
          "iopub.execute_input": "2024-04-30T09:32:09.986161Z",
          "iopub.status.idle": "2024-04-30T09:32:09.995075Z",
          "shell.execute_reply.started": "2024-04-30T09:32:09.986134Z",
          "shell.execute_reply": "2024-04-30T09:32:09.991882Z"
        },
        "trusted": true,
        "id": "2eSMWv-WbtV0"
      },
      "execution_count": null,
      "outputs": []
    },
    {
      "cell_type": "code",
      "source": [
        "X_train, X_test, y_train, y_test = train_test_split(sentences, labels, test_size=0.25)\n",
        "print(\"Training Data Input Shape: \", X_train.shape)\n",
        "print(\"Training Data Output Shape: \", y_train.shape)\n",
        "print(\"Testing Data Input Shape: \", X_test.shape)\n",
        "print(\"Testing Data Output Shape: \", y_test.shape)"
      ],
      "metadata": {
        "execution": {
          "iopub.status.busy": "2024-04-30T09:32:09.99685Z",
          "iopub.execute_input": "2024-04-30T09:32:09.997196Z",
          "iopub.status.idle": "2024-04-30T09:32:10.016259Z",
          "shell.execute_reply.started": "2024-04-30T09:32:09.997168Z",
          "shell.execute_reply": "2024-04-30T09:32:10.014901Z"
        },
        "trusted": true,
        "id": "msDBKNNXbtV0",
        "outputId": "1e7f90e2-a881-4d88-c38c-eb26ac3fec37"
      },
      "execution_count": null,
      "outputs": [
        {
          "name": "stdout",
          "text": "Training Data Input Shape:  (37500,)\nTraining Data Output Shape:  (37500,)\nTesting Data Input Shape:  (12500,)\nTesting Data Output Shape:  (12500,)\n",
          "output_type": "stream"
        }
      ]
    },
    {
      "cell_type": "code",
      "source": [
        "vocab_size = 10000\n",
        "oov_tok = \"<OOV>\"\n",
        "tokenizer = Tokenizer(num_words=vocab_size, oov_token=oov_tok)\n"
      ],
      "metadata": {
        "execution": {
          "iopub.status.busy": "2024-04-30T09:32:10.018264Z",
          "iopub.execute_input": "2024-04-30T09:32:10.018999Z",
          "iopub.status.idle": "2024-04-30T09:32:10.031283Z",
          "shell.execute_reply.started": "2024-04-30T09:32:10.018962Z",
          "shell.execute_reply": "2024-04-30T09:32:10.029998Z"
        },
        "trusted": true,
        "id": "oT_0gY8mbtV1"
      },
      "execution_count": null,
      "outputs": []
    },
    {
      "cell_type": "code",
      "source": [
        "tokenizer.fit_on_texts(X_train)\n",
        "print(\"Number of Documents: \", tokenizer.document_count)\n",
        "print(\"Number of Words: \", tokenizer.num_words)"
      ],
      "metadata": {
        "execution": {
          "iopub.status.busy": "2024-04-30T09:32:10.033512Z",
          "iopub.execute_input": "2024-04-30T09:32:10.034239Z",
          "iopub.status.idle": "2024-04-30T09:32:18.213739Z",
          "shell.execute_reply.started": "2024-04-30T09:32:10.034137Z",
          "shell.execute_reply": "2024-04-30T09:32:18.212519Z"
        },
        "trusted": true,
        "id": "DM3ETe6gbtV1",
        "outputId": "61cfdf4f-d32e-48c7-a7b9-12afeb136e51"
      },
      "execution_count": null,
      "outputs": [
        {
          "name": "stdout",
          "text": "Number of Documents:  37500\nNumber of Words:  10000\n",
          "output_type": "stream"
        }
      ]
    },
    {
      "cell_type": "code",
      "source": [
        "tokenizer.word_counts"
      ],
      "metadata": {
        "execution": {
          "iopub.status.busy": "2024-04-30T09:32:18.215266Z",
          "iopub.execute_input": "2024-04-30T09:32:18.215618Z",
          "iopub.status.idle": "2024-04-30T09:32:18.315467Z",
          "shell.execute_reply.started": "2024-04-30T09:32:18.215588Z",
          "shell.execute_reply": "2024-04-30T09:32:18.313718Z"
        },
        "trusted": true,
        "id": "r_E_QLzFbtV1",
        "outputId": "00efb777-8e7e-4eba-c979-7e09c00cd5c6"
      },
      "execution_count": null,
      "outputs": [
        {
          "execution_count": 87,
          "output_type": "execute_result",
          "data": {
            "text/plain": "OrderedDict([('eliza', 24),\n             ('elizabeth', 318),\n             ('moorman', 1),\n             ('is', 158286),\n             ('a', 242405),\n             ('farm', 238),\n             ('girl', 3884),\n             ('from', 30292),\n             ('the', 500649),\n             ('country', 1340),\n             ('coming', 1619),\n             ('to', 201096),\n             ('city', 1737),\n             ('looking', 3795),\n             ('for', 65610),\n             ('love', 9636),\n             ('she', 17922),\n             ('has', 24778),\n             ('met', 414),\n             ('man', 8331),\n             ('that', 102573),\n             ('told', 1640),\n             ('her', 25974),\n             ('of', 217333),\n             ('an', 32370),\n             ('astrologist', 1),\n             ('who', 30307),\n             ('will', 13563),\n             ('show', 9423),\n             ('stars', 2369),\n             ('this', 113215),\n             ('journey', 670),\n             ('souls', 196),\n             ('put', 3535),\n             ('test', 350),\n             ('can', 16419),\n             ('realize', 921),\n             ('true', 3347),\n             ('when', 20965),\n             ('sees', 788),\n             ('him', 13067),\n             ('or', 26825),\n             ('not', 45584),\n             ('tommy', 266),\n             ('lee', 936),\n             ('jones', 624),\n             ('construction', 133),\n             ('worker', 180),\n             ('trying', 3653),\n             ('find', 6082),\n             ('himself', 3091),\n             ('in', 139927),\n             ('his', 43275),\n             ('native', 376),\n             ('heritage', 40),\n             ('they', 31372),\n             ('each', 3928),\n             ('other', 13433),\n             ('different', 3527),\n             ('ways', 1187),\n             ('at', 35200),\n             ('things', 5469),\n             ('all', 35102),\n             ('while', 7748),\n             ('still', 8128),\n             ('and', 243176),\n             ('protect', 238),\n             ('reservation', 21),\n             ('grandmother', 157),\n             ('lives', 2026),\n             ('on', 51210),\n             ('twisted', 325),\n             ('story', 17265),\n             ('beyond', 1361),\n             ('obvious', 1536),\n             ('finding', 538),\n             ('beauty', 993),\n             ('simple', 1513),\n             ('everyday', 261),\n             ('style', 2379),\n             ('artsy', 101),\n             ('chock', 43),\n             ('full', 2679),\n             ('symbolism', 197),\n             ('psychedelic', 81),\n             ('camera', 2710),\n             ('styling', 16),\n             ('might', 4261),\n             ('scare', 301),\n             ('away', 4135),\n             ('average', 1083),\n             ('moviegoer', 16),\n             ('but', 62455),\n             ('deeper', 276),\n             ('message', 1230),\n             ('interesting', 4629),\n             ('frames', 89),\n             ('make', 11875),\n             ('movie', 65046),\n             ('worth', 3437),\n             ('watching', 6803),\n             ('it', 117439),\n             ('explores', 112),\n             ('underworld', 121),\n             ('weird', 954),\n             ('wretched', 94),\n             ('devastated', 57),\n             ('individuals', 205),\n             ('one', 39744),\n             ('strays', 20),\n             ('path', 271),\n             ('certainly', 2265),\n             ('nice', 2928),\n             ('well', 15877),\n             ('pictured', 42),\n             ('no', 18966),\n             ('originality', 261),\n             ('br', 151419),\n             ('directly', 274),\n             ('copied', 88),\n             ('hitch', 146),\n             ('where', 9318),\n             ('salman', 123),\n             ('plays', 3229),\n             ('like', 29954),\n             ('date', 646),\n             ('dr', 1143),\n             ('smith', 585),\n             ('govinda', 60),\n             ('some', 23388),\n             ('fat', 464),\n             ('jerk', 202),\n             ('desperate', 444),\n             ('get', 13654),\n             ('with', 65774),\n             ('boss', 549),\n             ('by', 33381),\n             ('end', 8272),\n             ('comes', 3583),\n             ('old', 6433),\n             ('indian', 623),\n             ('flimi', 1),\n             (\"bride's\", 4),\n             ('father', 2734),\n             (\"doesn't\", 6652),\n             ('lover', 544),\n             ('gets', 4672),\n             ('groom', 29),\n             ('saves', 228),\n             ('new', 6023),\n             ('fancy', 192),\n             ('dance', 1018),\n             ('stuff', 1821),\n             ('comedy', 4802),\n             ('was', 71717),\n             ('real', 7010),\n             ('good', 22224),\n             ('doubt', 1093),\n             ('meets', 971),\n             ('hindi', 108),\n             ('would', 18030),\n             ('be', 40034),\n             ('more', 20969),\n             ('funnier', 276),\n             ('ultimately', 753),\n             ('watch', 10264),\n             ('tv', 4205),\n             ('after', 11089),\n             ('few', 5957),\n             ('months', 419),\n             ('wonderful', 2405),\n             ('i', 115272),\n             (\"'enchanted'\", 1),\n             ('should', 7278),\n             ('say', 8091),\n             ('surprised', 1187),\n             ('because', 13081),\n             ('how', 13131),\n             ('uniquely', 50),\n             ('done', 4610),\n             ('cast', 5669),\n             ('sequencing', 8),\n             ('effects', 3393),\n             ('everything', 3623),\n             ('magnificent', 414),\n             ('mean', 2489),\n             ('yes', 2260),\n             ('what', 23108),\n             ('made', 12114),\n             ('outstanding', 611),\n             ('rest', 2561),\n             ('entertaining', 2199),\n             ('wholesome', 63),\n             ('manner', 589),\n             ('me', 16020),\n             ('representation', 115),\n             ('modern', 1354),\n             ('fairy', 211),\n             ('tale', 1133),\n             (\"it's\", 25185),\n             ('peter', 1122),\n             ('pan', 151),\n             ('simply', 2899),\n             ('amazing', 1883),\n             ('surely', 581),\n             ('buy', 1133),\n             ('copy', 907),\n             ('moment', 1613),\n             ('hit', 1573),\n             ('market', 292),\n             ('really', 17250),\n             ('double', 570),\n             ('must', 4847),\n             ('see', 17158),\n             ('10', 6373),\n             ('john', 3146),\n             ('waters', 156),\n             ('given', 2634),\n             ('us', 5582),\n             ('genuinely', 364),\n             ('enjoyable', 1274),\n             ('film', 58597),\n             (\"isn't\", 4710),\n             ('without', 4775),\n             ('its', 12021),\n             ('shocking', 496),\n             ('esque', 44),\n             ('moments', 2439),\n             ('tamer', 16),\n             ('than', 14490),\n             ('older', 916),\n             ('culty', 1),\n             ('such', 7457),\n             ('as', 68968),\n             ('pink', 175),\n             ('flamingoes', 2),\n             ('pecker', 32),\n             ('harkens', 6),\n             ('back', 7245),\n             (\"john's\", 61),\n             ('early', 2361),\n             ('mainstream', 284),\n             ('stage', 964),\n             ('reminds', 436),\n             ('viewer', 1753),\n             ('same', 6023),\n             ('kind', 4143),\n             ('humor', 2035),\n             ('evident', 185),\n             ('polyester', 18),\n             ('overall', 2130),\n             ('fun', 3967),\n             ('great', 13620),\n             (\"i'm\", 6993),\n             ('serious', 1504),\n             ('truly', 2622),\n             ('most', 13099),\n             ('fantastic', 1168),\n             ('films', 10090),\n             ('have', 41274),\n             ('ever', 8897),\n             ('had', 16484),\n             ('pleasure', 481),\n             (\"what's\", 1208),\n             ('so', 30560),\n             ('very', 20693),\n             ('rarely', 480),\n             ('does', 8773),\n             ('book', 3528),\n             ('turn', 1990),\n             ('into', 13335),\n             ('only', 17538),\n             ('if', 25463),\n             ('possible', 1491),\n             ('better', 8550),\n             ('novel', 1361),\n             ('based', 2113),\n             ('perhaps', 2505),\n             ('case', 2243),\n             ('lord', 443),\n             ('rings', 239),\n             ('trainspotting', 36),\n             ('rare', 635),\n             ('occurrence', 33),\n             ('indeed', 1037),\n             ('think', 10645),\n             ('fact', 5218),\n             ('louis', 343),\n             ('sachar', 6),\n             ('involved', 1612),\n             ('beginning', 2070),\n             ('helped', 516),\n             ('masses', 110),\n             ('sticks', 182),\n             ('close', 1844),\n             ('takes', 3229),\n             ('even', 18615),\n             ('further', 794),\n             ('many', 9967),\n             ('elements', 1147),\n             ('1', 3202),\n             ('unique', 946),\n             ('original', 4834),\n             ('mix', 518),\n             ('humour', 721),\n             ('mature', 263),\n             ('edge', 682),\n             ('2', 4339),\n             ('brilliant', 1818),\n             ('actors', 6557),\n             ('adults', 518),\n             ('kids', 2695),\n             ('alike', 215),\n             ('these', 7975),\n             ('know', 9328),\n             ('bring', 1242),\n             ('life', 9546),\n             ('deliver', 480),\n             ('their', 17144),\n             ('lines', 2297),\n             ('enthusiasm', 130),\n             ('going', 6185),\n             ('overboard', 68),\n             ('sometimes', 1769),\n             ('happen', 1575),\n             ('movies', 11324),\n             ('3', 2818),\n             ('breathtaking', 234),\n             ('scenery', 605),\n             ('matter', 1843),\n             ('cgi', 493),\n             ('setting', 950),\n             ('itself', 2446),\n             ('masterpiece', 961),\n             ('especially', 3725),\n             ('image', 563),\n             ('holes', 528),\n             ('birds', 136),\n             ('eye', 1220),\n             ('view', 1468),\n             ('4', 2089),\n             ('talented', 858),\n             ('director', 6208),\n             ('breathes', 23),\n             ('turns', 1784),\n             ('technicolour', 9),\n             ('genius', 716),\n             ('transitions', 58),\n             ('time', 18766),\n             ('work', 6364),\n             ('capture', 428),\n             ('steady', 108),\n             ('climax', 605),\n             ('leading', 903),\n             ('up', 19859),\n             ('twists', 662),\n             ('throughout', 1947),\n             ('5', 2107),\n             ('guy', 4585),\n             ('reading', 1004),\n             ('nonstop', 35),\n             ('start', 2566),\n             ('finish', 596),\n             (\"couldn't\", 2262),\n             ('down', 5547),\n             ('he', 39494),\n             ('makes', 6216),\n             ('sure', 3906),\n             ('script', 4462),\n             ('bits', 471),\n             ('added', 662),\n             ('6', 810),\n             ('speaking', 603),\n             ('liners', 298),\n             ('are', 43898),\n             ('smart', 643),\n             ('funny', 6483),\n             ('unpatronising', 1),\n             ('there', 23343),\n             ('also', 13513),\n             ('parts', 1768),\n             ('you', 44924),\n             ('smile', 421),\n             ('cry', 571),\n             ('tug', 18),\n             ('your', 8601),\n             ('heartstrings', 22),\n             ('7', 1284),\n             ('beautiful', 3215),\n             ('soundtrack', 1212),\n             (\"there's\", 4629),\n             ('song', 1558),\n             (\"haven't\", 1209),\n             ('fallen', 236),\n             (\"that's\", 5090),\n             ('something', 7545),\n             ('considering', 819),\n             ('supposed', 2126),\n             ('punk', 186),\n             ('rocker', 37),\n             ('songs', 1254),\n             ('link', 158),\n             ('add', 1213),\n             ('extra', 521),\n             ('jazz', 184),\n             (\"you're\", 2883),\n             ('recommend', 2536),\n             ('too', 11519),\n             ('which', 17567),\n             ('centres', 35),\n             ('around', 5494),\n             ('contains', 627),\n             ('chorus', 105),\n             ('do', 13621),\n             ('people', 13326),\n             ('way', 11714),\n             ('just', 26276),\n             ('fan', 2952),\n             ('plugging', 8),\n             ('my', 18581),\n             ('favourite', 464),\n             ('giving', 1247),\n             ('review', 1255),\n             ('deserves', 874),\n             ('seen', 10023),\n             ('now', 6885),\n             ('instant', 151),\n             ('go', 7440),\n             ('could', 11460),\n             ('agree', 854),\n             ('less', 2787),\n             ('rating', 1393),\n             ('believe', 3754),\n             ('sample', 51),\n             ('short', 2910),\n             ('minded', 239),\n             ('spectators', 31),\n             ('over', 9164),\n             ('world', 5488),\n             ('forgetting', 68),\n             ('cinema', 2117),\n             ('used', 2873),\n             ('art', 1824),\n             ('before', 6332),\n             ('tycoons', 8),\n             ('tried', 1182),\n             ('entertainment', 1248),\n             ('least', 4623),\n             ('easy', 1185),\n             ('titanic', 181),\n             ('gladiator', 37),\n             ('why', 7745),\n             ('hated', 418),\n             ('much', 14484),\n             ('try', 2666),\n             ('pleasing', 114),\n             ('admit', 912),\n             ('courage', 234),\n             ('both', 5201),\n             ('author', 345),\n             ('shot', 3093),\n             ('please', 1532),\n             ('audience', 3180),\n             ('thus', 594),\n             ('selling', 228),\n             ('billions', 17),\n             ('copies', 153),\n             ('making', 4283),\n             ('big', 5217),\n             ('studios', 273),\n             ('richer', 33),\n             ('european', 405),\n             ('artistic', 521),\n             ('everyone', 3216),\n             ('respect', 742),\n             ('sense', 3481),\n             ('silly', 1358),\n             ('saying', 1479),\n             (\"can't\", 5328),\n             ('touch', 687),\n             ('applies', 62),\n             ('here', 7971),\n             ('clone', 92),\n             ('horror', 5423),\n             ('sci', 1069),\n             ('fi', 1072),\n             ('out', 25478),\n             ('along', 2818),\n             ('inferior', 122),\n             ('remakes', 98),\n             ('hard', 3972),\n             ('anything', 4384),\n             ('worthy', 606),\n             ('hours', 1466),\n             ('always', 4759),\n             ('rely', 126),\n             ('classics', 356),\n             ('scared', 410),\n             ('weewee', 1),\n             ('pre', 445),\n             ('teen', 591),\n             ('thing', 6802),\n             ('ounce', 50),\n             ('mind', 2998),\n             ('goriest', 12),\n             ('ickiest', 1),\n             ('screechiest', 1),\n             ('classic', 2695),\n             ('carpenter', 196),\n             ('any', 11164),\n             ('sorry', 1244),\n             ('mr', 2171),\n             ('spielberg', 168),\n             ('gives', 2280),\n             ('power', 1406),\n             ('though', 6521),\n             ('gore', 1492),\n             ('ooooozes', 1),\n             ('slime', 30),\n             ('blood', 1634),\n             ('god', 1679),\n             ('knows', 1355),\n             ('fluids', 16),\n             ('rather', 3959),\n             ('dread', 87),\n             ('isolation', 85),\n             ('distrust', 20),\n             ('fosters', 12),\n             ('characters', 10744),\n             ('remote', 258),\n             ('antarctica', 13),\n             ('howling', 63),\n             ('freezing', 30),\n             ('white', 2082),\n             ('place', 3542),\n             ('several', 2154),\n             ('americans', 531),\n             ('researchers', 10),\n             ('military', 660),\n             ('men', 2783),\n             ('stationed', 26),\n             ('day', 3818),\n             ('witness', 303),\n             ('siberian', 6),\n             ('husky', 21),\n             ('dog', 1070),\n             ('running', 1459),\n             ('dear', 243),\n             ('gun', 850),\n             ('wielding', 70),\n             ('norwegians', 16),\n             ('american', 3370),\n             ('outpost', 27),\n             ('battling', 69),\n             ('mysterious', 589),\n             ('creature', 492),\n             ('imitate', 61),\n             ('wants', 1877),\n             ('may', 4939),\n             ('morph', 15),\n             ('disgusting', 348),\n             ('slimy', 100),\n             ('bloody', 487),\n             ('shapes', 40),\n             ('finished', 405),\n             ('once', 3408),\n             (\"didn't\", 6504),\n             ('progress', 150),\n             ('tell', 2546),\n             ('among', 1203),\n             ('humans', 432),\n             ('normal', 675),\n             ('earth', 1316),\n             ('animals', 474),\n             ('kurt', 159),\n             ('russell', 249),\n             ('keith', 155),\n             ('david', 1513),\n             ('wilford', 22),\n             ('brimley', 22),\n             ('richard', 1112),\n             ('masur', 5),\n             ('donald', 293),\n             ('moffatt', 1),\n             ('tk', 1),\n             ('carter', 167),\n             ('thomas', 484),\n             ('waites', 3),\n             ('charles', 642),\n             ('hallahan', 1),\n             ('fine', 1896),\n             ('reason', 3363),\n             ('genre', 1797),\n             ('actually', 6320),\n             ('scares', 265),\n             ('alien', 749),\n             ('jumping', 187),\n             ('petri', 3),\n             ('dish', 62),\n             ('hot', 1035),\n             ('wire', 106),\n             ('touches', 296),\n             ('jump', 400),\n             ('scariest', 85),\n             ('them', 12060),\n             ('legacy', 114),\n             ('starts', 1730),\n             ('arrival', 134),\n             ('lawyer', 261),\n             ('tom', 1074),\n             ('drake', 108),\n             ('norman', 197),\n             ('bartold', 1),\n             ('dean', 298),\n             ('estate', 168),\n             ('formerly', 46),\n             ('owned', 104),\n             ('deceased', 116),\n             ('christopher', 565),\n             ('carradine', 140),\n             ('upon', 1311),\n             ('greeted', 29),\n             (\"dean's\", 18),\n             ('four', 1393),\n             ('children', 2024),\n             ('gregory', 101),\n             ('jeff', 405),\n             ('morrow', 39),\n             ('wife', 2919),\n             ('laura', 241),\n             ('merry', 64),\n             ('anders', 39),\n             ('victoria', 216),\n             ('faith', 410),\n             ('domergue', 14),\n             ('johnny', 442),\n             ('davalos', 4),\n             ('plus', 990),\n             ('leslie', 221),\n             ('brooke', 58),\n             ('mills', 50),\n             ('fella', 21),\n             ('carl', 170),\n             ('isenberg', 1),\n             ('tape', 418),\n             ('recording', 158),\n             (\"they're\", 1845),\n             ('late', 1753),\n             (\"father's\", 260),\n             ('wishes', 194),\n             ('death', 2888),\n             ('136', 4),\n             ('million', 588),\n             ('dollars', 335),\n             ('split', 187),\n             ('equally', 579),\n             ('between', 4969),\n             ('die', 1245),\n             ('then', 11981),\n             ('money', 3412),\n             ('were', 15982),\n             ('freaky', 81),\n             ('servants', 73),\n             ('elga', 4),\n             ('ivy', 33),\n             ('bethune', 2),\n             ('igor', 34),\n             ('buck', 198),\n             ('kartalian', 1),\n             ('mundanely', 2),\n             ('named', 1182),\n             ('frank', 651),\n             ('pocket', 63),\n             ('lot', 6040),\n             ('satisfied', 158),\n             ('quarter', 77),\n             ('share', 508),\n             ('almost', 4678),\n             ('35', 138),\n             ('1971', 126),\n             ('sound', 2083),\n             ('bad', 13804),\n             ('someone', 3262),\n             ('decides', 791),\n             ('want', 5408),\n             ('themselves', 1742),\n             ('long', 5073),\n             ('decapitated', 35),\n             ('heads', 426),\n             ('turning', 488),\n             ('fridge', 36),\n             ('co', 852),\n             ('written', 2331),\n             ('produced', 887),\n             ('directed', 1823),\n             ('roy', 272),\n             ('monson', 5),\n             ('disappointed', 1346),\n             ('two', 10102),\n             ('accounts', 88),\n             ('starters', 66),\n             (\"film's\", 1535),\n             ('alternate', 124),\n             ('common', 749),\n             ('title', 2252),\n             ('obscure', 160),\n             ('andy', 365),\n             ('milliagn', 1),\n             (\"'78\", 7),\n             (\"i've\", 4944),\n             ('wanted', 2029),\n             ('regularly', 83),\n             ('mixed', 402),\n             ('similar', 1234),\n             ('stories', 1635),\n             ('checked', 131),\n             ('screen', 3766),\n             ('cable', 406),\n             ('guide', 207),\n             ('excited', 305),\n             ('said', 3203),\n             ('milligan', 41),\n             ('listed', 175),\n             ('sat', 435),\n             ('heard', 1645),\n             (\"carradine's\", 9),\n             ('voice', 1694),\n             ('knew', 1375),\n             (\"wasn't\", 3364),\n             ('heart', 1892),\n             ('sank', 29),\n             ('course', 3690),\n             ('yet', 4103),\n             ('undeniably', 85),\n             ('straight', 1257),\n             ('forward', 968),\n             ('total', 956),\n             ('utter', 363),\n             ('piece', 2318),\n             ('crap', 1497),\n             ('literally', 713),\n             ('painful', 583),\n             ('times', 4747),\n             ('eric', 330),\n             ('norden', 2),\n             ('slow', 1649),\n             ('boring', 2692),\n             ('extremely', 1585),\n             ('predictable', 1273),\n             (\"character's\", 449),\n             ('absolutely', 2285),\n             ('bizarre', 749),\n             ('annoying', 1493),\n             ('freak', 185),\n             ('servant', 105),\n             (\"ask's\", 9),\n             ('sister', 1177),\n             ('cane', 38),\n             ('strange', 1373),\n             ('set', 3603),\n             (\"brother's\", 82),\n             ('sisters', 342),\n             ('downright', 273),\n             ('unlikeable', 98),\n             ('far', 4526),\n             ('removed', 166),\n             ('reality', 1500),\n             ('tension', 777),\n             ('mystery', 1135),\n             ('simplistic', 156),\n             ('whodunit', 27),\n             ('achieved', 218),\n             ('sorely', 87),\n             ('missing', 871),\n             ('awful', 2618),\n             ('twist', 868),\n             ('ending', 3594),\n             ('guess', 1998),\n             ('within', 1208),\n             ('first', 13102),\n             ('minutes', 4429),\n             ('poorly', 1020),\n             ('paced', 446),\n             ('chore', 61),\n             ('about', 25670),\n             ('save', 1575),\n             ('either', 2761),\n             ('working', 1145),\n             ('none', 1487),\n             ('existent', 224),\n             ('budget', 2827),\n             ('judging', 157),\n             (\"shouldn't\", 505),\n             ('been', 13786),\n             ('directing', 910),\n             ('traffic', 120),\n             ('entire', 2137),\n             ('looks', 3385),\n             ('ugly', 529),\n             ('photographed', 187),\n             ('atmosphere', 1106),\n             ('tame', 154),\n             ('axe', 92),\n             ('head', 2353),\n             ('scene', 8162),\n             ('stung', 6),\n             (\"wasp's\", 1),\n             ('best', 9355),\n             ('murder', 1553),\n             (\"someone's\", 144),\n             ('face', 2454),\n             ('eaten', 142),\n             ('piranha', 39),\n             ('however', 5258),\n             ('question', 989),\n             ('marks', 172),\n             ('victim', 584),\n             ('right', 4972),\n             ('tank', 155),\n             ('victims', 524),\n             ('placed', 288),\n             ('pirahna', 2),\n             ('eat', 393),\n             ('water', 895),\n             ('remains', 623),\n             ('crystal', 138),\n             ('clear', 1188),\n             ('despite', 2014),\n             ('having', 3707),\n             ('erm', 25),\n             (\"where's\", 107),\n             ('technically', 289),\n             ('terrible', 2457),\n             ('obviously', 1759),\n             ('live', 2223),\n             ('muffled', 13),\n             ('hear', 1065),\n             ('dialogue', 2265),\n             ('maybe', 3590),\n             ('blessing', 42),\n             ('disguise', 105),\n             ('acting', 9606),\n             ('win', 672),\n             ('anyone', 3939),\n             ('awards', 327),\n             ('single', 1348),\n             ('positive', 707),\n             ('aspect', 652),\n             ('yourself', 1415),\n             ('favour', 113),\n             (\"don't\", 12576),\n             ('bother', 647),\n             ('nothing', 6276),\n             ('western', 1014),\n             ('we', 14475),\n             ('spaghetti', 117),\n             ('ones', 1349),\n             ('provides', 520),\n             ('conventional', 167),\n             ('robert', 1491),\n             ('mitchum', 95),\n             ('legendary', 286),\n             ('flegma', 1),\n             ('although', 3828),\n             ('fit', 749),\n             ('forties', 63),\n             ('fifties', 106),\n             ('forget', 1080),\n             ('son', 1896),\n             ('worse', 2230),\n             ('incredibly', 950),\n             ('exorcism', 50),\n             ('emily', 205),\n             ('rose', 339),\n             ('started', 1417),\n             ('off', 9102),\n             ('decently', 31),\n             ('until', 2653),\n             ('mom', 484),\n             ('dad', 591),\n             ('possessed', 192),\n             ('line', 2786),\n             ('spoken', 236),\n             ('badly', 933),\n             ('foreshadowed', 9),\n             ('rapid', 78),\n             ('demise', 110),\n             ('amazingly', 277),\n             ('every', 5929),\n             ('family', 4318),\n             ('member', 489),\n             ('issue', 445),\n             ('past', 1825),\n             ('priest', 391),\n             ('accuse', 36),\n             ('liking', 182),\n             ('affair', 554),\n             ('culminating', 46),\n             ('killing', 1082),\n             ('buddy', 419),\n             ('lucidity', 2),\n             ('realizes', 281),\n             ('friend', 2110),\n             (\"hadn't\", 424),\n             ('slept', 63),\n             ('dying', 490),\n             ('others', 2310),\n             ('under', 2014),\n             ('possession', 95),\n             ('point', 4712),\n             ('viewers', 1125),\n             ('care', 2029),\n             ('anymore', 528),\n             ('except', 1665),\n             ('employee', 83),\n             ('miguel', 26),\n             ('likable', 558),\n             ('writing', 1865),\n             ('glad', 685),\n             ('saw', 4698),\n             ('free', 1013),\n             ('feel', 4324),\n             ('owes', 89),\n             ('lost', 2213),\n             ('lt', 59),\n             ('chosen', 343),\n             ('horrible', 1869),\n             ('hollywood', 2542),\n             ('worst', 3962),\n             ('need', 2668),\n             ('scenario', 253),\n             (\"willis'\", 9),\n             ('mission', 417),\n             ('doctor', 991),\n             ('adamant', 14),\n             ('missionary', 27),\n             ('chopper', 63),\n             ('marched', 12),\n             ('those', 7026),\n             ('refugees', 33),\n             ('border', 146),\n             ('compromised', 44),\n             ('package', 120),\n             ('works', 1873),\n             ('pointed', 195),\n             ('drama', 2072),\n             ('quite', 5445),\n             ('complicated', 258),\n             ('did', 9419),\n             ('willis', 159),\n             ('workable', 13),\n             ('chemistry', 703),\n             ('battle', 909),\n             ('scenes', 7854),\n             ('waste', 2053),\n             ('tears', 445),\n             ('sun', 299),\n             ('dvd', 3637),\n             ('rental', 338),\n             ('fee', 31),\n             ('check', 1138),\n             ('rainy', 82),\n             (\"you'll\", 2014),\n             ('george', 1184),\n             ('carlin', 16),\n             ('probably', 4209),\n             ('favorite', 1789),\n             ('comedian', 228),\n             ('specials', 39),\n             ('opportunity', 593),\n             ('perform', 241),\n             ('certain', 1198),\n             ('cynicism', 58),\n             ('appealed', 29),\n             ('last', 4262),\n             ('losing', 309),\n             ('complaints', 115),\n             ('grievances', 6),\n             ('lacked', 207),\n             ('spirit', 710),\n             ('content', 561),\n             ('appeared', 542),\n             ('overweight', 64),\n             ('tired', 574),\n             ('mention', 1223),\n             ('rehab', 21),\n             ('anyway', 1668),\n             ('tragic', 498),\n             ('disgruntled', 40),\n             ('again', 5884),\n             ('unfunny', 367),\n             ('heckling', 8),\n             ('millennium', 60),\n             ('post', 766),\n             ('9', 1153),\n             ('11', 502),\n             ('america', 933),\n             ('trampling', 9),\n             (\"george's\", 23),\n             ('bs', 45),\n             ...])"
          },
          "metadata": {}
        }
      ]
    },
    {
      "cell_type": "code",
      "source": [
        "\n",
        "tokenizer.word_docs"
      ],
      "metadata": {
        "execution": {
          "iopub.status.busy": "2024-04-30T09:32:18.319466Z",
          "iopub.execute_input": "2024-04-30T09:32:18.319863Z",
          "iopub.status.idle": "2024-04-30T09:32:18.355996Z",
          "shell.execute_reply.started": "2024-04-30T09:32:18.31983Z",
          "shell.execute_reply": "2024-04-30T09:32:18.354736Z"
        },
        "trusted": true,
        "id": "5cgDEbxsbtV2",
        "outputId": "563f2731-d8d9-44b2-a7aa-3ac8811f658c"
      },
      "execution_count": null,
      "outputs": [
        {
          "execution_count": 88,
          "output_type": "execute_result",
          "data": {
            "text/plain": "defaultdict(int,\n            {'things': 4460,\n             'jones': 478,\n             'away': 3608,\n             'coming': 1506,\n             'journey': 544,\n             'his': 15930,\n             'wretched': 91,\n             'that': 29933,\n             'is': 33531,\n             'individuals': 190,\n             'all': 19366,\n             'farm': 197,\n             'twisted': 301,\n             'protect': 225,\n             'finding': 502,\n             'everyday': 246,\n             'moorman': 1,\n             'for': 26675,\n             'weird': 844,\n             'might': 3581,\n             'to': 35219,\n             'an': 18323,\n             'beyond': 1269,\n             'scare': 276,\n             'or': 15457,\n             'city': 1284,\n             'it': 31882,\n             'who': 16472,\n             'when': 13446,\n             'stars': 2091,\n             'lee': 609,\n             'her': 9398,\n             'himself': 2614,\n             'at': 19257,\n             'full': 2370,\n             'devastated': 57,\n             'they': 15498,\n             'different': 2938,\n             'style': 2030,\n             'certainly': 2020,\n             'has': 14923,\n             'grandmother': 132,\n             'styling': 15,\n             'movie': 22787,\n             'simple': 1366,\n             'met': 397,\n             'camera': 2230,\n             'this': 33993,\n             'can': 11691,\n             'will': 9370,\n             'ways': 1097,\n             'construction': 126,\n             'make': 9138,\n             'but': 26839,\n             'astrologist': 1,\n             'souls': 164,\n             'heritage': 39,\n             'realize': 866,\n             'worth': 3163,\n             'symbolism': 171,\n             'not': 22360,\n             'looking': 3295,\n             'show': 5017,\n             'told': 1464,\n             'still': 6445,\n             'from': 17441,\n             'while': 6045,\n             'elizabeth': 231,\n             'test': 311,\n             'country': 1144,\n             'frames': 83,\n             'in': 32971,\n             'artsy': 91,\n             'tommy': 183,\n             'true': 2898,\n             'find': 5046,\n             'moviegoer': 16,\n             'put': 3169,\n             'girl': 2922,\n             'message': 1004,\n             'watching': 5673,\n             'sees': 715,\n             'reservation': 20,\n             'other': 9965,\n             'and': 36212,\n             'underworld': 100,\n             'interesting': 3880,\n             'worker': 163,\n             'man': 5730,\n             'on': 23600,\n             'beauty': 849,\n             'a': 36251,\n             'average': 976,\n             'the': 37148,\n             'eliza': 19,\n             'of': 35569,\n             'lives': 1764,\n             'deeper': 249,\n             'she': 7510,\n             'him': 7604,\n             'path': 251,\n             'native': 304,\n             'love': 6665,\n             'chock': 43,\n             'trying': 3183,\n             'each': 3117,\n             'story': 11149,\n             'explores': 111,\n             'strays': 19,\n             'obvious': 1414,\n             'psychedelic': 75,\n             'one': 21226,\n             'hitch': 82,\n             'copied': 80,\n             'desperate': 420,\n             'date': 584,\n             'boss': 452,\n             'comedy': 3468,\n             'end': 6622,\n             'get': 9983,\n             'watch': 8082,\n             'meets': 884,\n             'lover': 481,\n             'ultimately': 710,\n             'be': 21152,\n             'good': 14212,\n             'new': 4579,\n             'govinda': 34,\n             'tv': 3190,\n             'was': 24232,\n             'after': 8416,\n             'originality': 253,\n             'well': 11220,\n             'groom': 24,\n             'smith': 408,\n             'flimi': 1,\n             'like': 17307,\n             'old': 5004,\n             'fat': 386,\n             'dance': 720,\n             'pictured': 41,\n             'funnier': 255,\n             'real': 5525,\n             'saves': 220,\n             'comes': 3155,\n             'some': 14355,\n             'no': 12183,\n             'where': 7006,\n             \"bride's\": 2,\n             'nice': 2460,\n             'would': 11910,\n             'months': 395,\n             'gets': 3872,\n             'father': 1894,\n             'jerk': 185,\n             'fancy': 186,\n             \"doesn't\": 5316,\n             'directly': 268,\n             'with': 26121,\n             'by': 17554,\n             'dr': 751,\n             'few': 5028,\n             'doubt': 1028,\n             'stuff': 1582,\n             'indian': 414,\n             'salman': 59,\n             'hindi': 75,\n             'br': 21911,\n             'more': 13422,\n             'plays': 2751,\n             'copy': 789,\n             'made': 9278,\n             'sequencing': 7,\n             'effects': 2765,\n             'how': 9395,\n             'i': 28788,\n             'manner': 553,\n             'fairy': 161,\n             'yes': 1958,\n             'really': 11229,\n             'hit': 1369,\n             'outstanding': 572,\n             'mean': 2128,\n             'what': 14494,\n             'peter': 887,\n             'everything': 3159,\n             'market': 269,\n             'see': 12165,\n             'say': 6514,\n             'rest': 2342,\n             'amazing': 1607,\n             'magnificent': 377,\n             'modern': 1164,\n             '10': 4999,\n             'tale': 968,\n             'wonderful': 2084,\n             'cast': 4769,\n             'done': 3938,\n             'uniquely': 48,\n             'wholesome': 62,\n             'simply': 2471,\n             'moment': 1418,\n             'surprised': 1135,\n             'representation': 110,\n             'buy': 1042,\n             'double': 515,\n             \"'enchanted'\": 1,\n             \"it's\": 13577,\n             'me': 10998,\n             'entertaining': 2004,\n             'pan': 140,\n             'must': 4210,\n             'because': 9204,\n             'should': 5991,\n             'surely': 551,\n             'genuinely': 344,\n             'waters': 126,\n             'its': 7658,\n             'mainstream': 256,\n             \"isn't\": 3853,\n             'film': 20624,\n             'polyester': 18,\n             'tamer': 16,\n             'flamingoes': 2,\n             'us': 4112,\n             'esque': 43,\n             'older': 836,\n             'harkens': 6,\n             'early': 2067,\n             'given': 2332,\n             'without': 4090,\n             'moments': 2128,\n             'evident': 178,\n             'great': 9448,\n             'as': 23981,\n             'pink': 146,\n             \"john's\": 52,\n             'humor': 1681,\n             'than': 10508,\n             'viewer': 1537,\n             'overall': 1974,\n             'culty': 1,\n             'kind': 3458,\n             'pecker': 15,\n             'back': 5771,\n             'fun': 3174,\n             'such': 5882,\n             'stage': 778,\n             'same': 4947,\n             'enjoyable': 1184,\n             'reminds': 422,\n             'john': 2332,\n             'shocking': 451,\n             'very': 12785,\n             'lord': 373,\n             'fallen': 222,\n             'too': 8434,\n             'rocker': 34,\n             'know': 7229,\n             'soundtrack': 1084,\n             'sticks': 175,\n             'edge': 605,\n             'elements': 1031,\n             'guy': 3354,\n             'unpatronising': 1,\n             'nonstop': 33,\n             'pleasure': 449,\n             'masses': 95,\n             'throughout': 1806,\n             'you': 19386,\n             'so': 17441,\n             'supposed': 1863,\n             'happen': 1434,\n             'sachar': 5,\n             'unique': 864,\n             'mix': 499,\n             'start': 2319,\n             'novel': 934,\n             'overboard': 63,\n             'eye': 1070,\n             \"that's\": 4150,\n             '6': 727,\n             'helped': 493,\n             'rare': 597,\n             'people': 9107,\n             '4': 1801,\n             'twists': 621,\n             'tug': 16,\n             'down': 4634,\n             'brilliant': 1572,\n             'life': 6738,\n             'beautiful': 2680,\n             'extra': 483,\n             'jazz': 150,\n             'do': 9915,\n             'instant': 145,\n             'leading': 832,\n             'birds': 114,\n             'giving': 1179,\n             'centres': 35,\n             'case': 2003,\n             'breathtaking': 227,\n             'funny': 4735,\n             'occurrence': 33,\n             'link': 149,\n             'lines': 2004,\n             '5': 1757,\n             \"you're\": 2393,\n             'holes': 470,\n             'if': 16218,\n             'steady': 106,\n             'have': 21374,\n             'turn': 1827,\n             \"there's\": 3474,\n             'songs': 976,\n             'sometimes': 1494,\n             'finish': 567,\n             '3': 2373,\n             'favourite': 405,\n             'adults': 458,\n             'alike': 209,\n             'genius': 640,\n             'considering': 778,\n             'sure': 3455,\n             'makes': 5217,\n             'my': 12090,\n             'liners': 277,\n             'takes': 2872,\n             'around': 4557,\n             'go': 6115,\n             'smile': 403,\n             'he': 14667,\n             'serious': 1335,\n             'masterpiece': 895,\n             'most': 9719,\n             'truly': 2302,\n             'heartstrings': 22,\n             'add': 1157,\n             'deliver': 462,\n             'ever': 7173,\n             'setting': 898,\n             'parts': 1580,\n             'now': 5521,\n             'based': 1930,\n             'bits': 436,\n             '1': 2658,\n             'involved': 1483,\n             'reading': 945,\n             'transitions': 54,\n             'script': 3728,\n             'rings': 215,\n             'recommend': 2429,\n             'talented': 803,\n             'does': 6770,\n             'fan': 2571,\n             'contains': 597,\n             'mature': 230,\n             'going': 5105,\n             \"i'm\": 5410,\n             'movies': 7930,\n             'especially': 3336,\n             'speaking': 574,\n             'something': 6064,\n             'indeed': 934,\n             'technicolour': 9,\n             'view': 1298,\n             'which': 11176,\n             'way': 8839,\n             'rarely': 456,\n             'there': 14495,\n             'had': 10986,\n             'fact': 4368,\n             'further': 743,\n             'perhaps': 2177,\n             'director': 5030,\n             'your': 6415,\n             'only': 12433,\n             'song': 1144,\n             \"couldn't\": 2073,\n             'just': 15659,\n             'review': 1103,\n             'original': 3408,\n             'punk': 143,\n             'fantastic': 1026,\n             'are': 20797,\n             'cry': 515,\n             'plugging': 8,\n             'their': 10402,\n             'climax': 588,\n             'into': 9509,\n             'matter': 1656,\n             'turns': 1614,\n             'films': 6777,\n             'image': 505,\n             'possible': 1388,\n             'chorus': 79,\n             'actors': 5366,\n             'these': 6062,\n             'trainspotting': 31,\n             'enthusiasm': 123,\n             'time': 12966,\n             'up': 13028,\n             'kids': 1876,\n             'scenery': 576,\n             'added': 636,\n             'also': 9545,\n             'even': 12544,\n             'book': 2011,\n             'humour': 602,\n             'beginning': 1913,\n             'louis': 220,\n             '7': 1186,\n             'many': 7514,\n             \"haven't\": 1148,\n             'think': 8008,\n             'seen': 8029,\n             'cgi': 395,\n             'capture': 413,\n             'smart': 580,\n             'bring': 1151,\n             'work': 5126,\n             'close': 1693,\n             'better': 6903,\n             'breathes': 23,\n             'deserves': 841,\n             \"what's\": 1112,\n             '2': 3434,\n             'itself': 2191,\n             'admit': 867,\n             'sense': 2966,\n             'selling': 217,\n             'pleasing': 111,\n             'european': 365,\n             'least': 4026,\n             'billions': 15,\n             'please': 1353,\n             'both': 4173,\n             'gladiator': 30,\n             'titanic': 92,\n             'thus': 558,\n             'easy': 1105,\n             'shot': 2524,\n             'before': 5339,\n             'used': 2535,\n             'minded': 227,\n             'could': 8679,\n             'forgetting': 68,\n             'tried': 1092,\n             'studios': 248,\n             'art': 1454,\n             'rating': 1223,\n             'artistic': 447,\n             'making': 3726,\n             'tycoons': 8,\n             'short': 2401,\n             'believe': 3302,\n             'why': 5772,\n             'world': 4109,\n             'respect': 694,\n             'courage': 221,\n             'big': 4228,\n             'try': 2434,\n             'entertainment': 1143,\n             'much': 10543,\n             'richer': 30,\n             'hated': 370,\n             'spectators': 29,\n             'audience': 2585,\n             'sample': 48,\n             'copies': 143,\n             'cinema': 1706,\n             'agree': 814,\n             'less': 2488,\n             'author': 315,\n             'over': 6958,\n             'everyone': 2803,\n             'americans': 429,\n             'silly': 1208,\n             'thomas': 370,\n             'humans': 342,\n             'hot': 882,\n             'disgusting': 314,\n             'knows': 1214,\n             'moffatt': 1,\n             'fi': 792,\n             'fosters': 6,\n             'husky': 17,\n             'characters': 7618,\n             'hours': 1317,\n             'here': 6123,\n             'finished': 396,\n             \"can't\": 4532,\n             'wilford': 22,\n             'antarctica': 12,\n             'rely': 124,\n             'howling': 56,\n             'reason': 2929,\n             'morph': 15,\n             'anything': 3826,\n             'fine': 1683,\n             'remote': 248,\n             'actually': 5123,\n             'petri': 3,\n             'battling': 69,\n             'normal': 609,\n             'mysterious': 546,\n             'saying': 1354,\n             'them': 8477,\n             'richard': 899,\n             'once': 3028,\n             'ickiest': 1,\n             'keith': 128,\n             'blood': 1307,\n             'gore': 1141,\n             'masur': 5,\n             'day': 3183,\n             'wire': 100,\n             'researchers': 10,\n             'donald': 257,\n             'fluids': 16,\n             'teen': 498,\n             'along': 2536,\n             'classics': 340,\n             'screechiest': 1,\n             'remakes': 93,\n             'dog': 775,\n             'jumping': 182,\n             'outpost': 20,\n             'wants': 1640,\n             'shapes': 39,\n             'earth': 992,\n             'scariest': 82,\n             'slime': 28,\n             'classic': 2327,\n             'god': 1321,\n             'creature': 382,\n             'military': 492,\n             'may': 3984,\n             'kurt': 118,\n             'russell': 183,\n             'slimy': 96,\n             'running': 1320,\n             'bloody': 436,\n             'gun': 692,\n             'stationed': 25,\n             'ounce': 50,\n             'dish': 57,\n             'dread': 83,\n             'thing': 5572,\n             'tell': 2268,\n             'sorry': 1148,\n             'scared': 362,\n             'power': 1119,\n             'waites': 3,\n             'siberian': 6,\n             'touches': 291,\n             'among': 1114,\n             'rather': 3267,\n             'wielding': 66,\n             'progress': 133,\n             'imitate': 61,\n             'carter': 126,\n             'white': 1608,\n             \"didn't\": 5155,\n             'weewee': 1,\n             'pre': 410,\n             'mind': 2676,\n             'ooooozes': 1,\n             'genre': 1532,\n             'dear': 217,\n             'sci': 786,\n             'inferior': 119,\n             'mr': 1450,\n             'men': 2058,\n             'alien': 466,\n             'horror': 3184,\n             'hard': 3527,\n             'worthy': 576,\n             'scares': 244,\n             'american': 2511,\n             'several': 1931,\n             'jump': 367,\n             'charles': 508,\n             'applies': 61,\n             'witness': 277,\n             'gives': 2036,\n             'touch': 649,\n             'spielberg': 110,\n             'norwegians': 11,\n             'any': 8450,\n             'clone': 82,\n             'distrust': 19,\n             'brimley': 21,\n             'carpenter': 114,\n             'goriest': 11,\n             'david': 1167,\n             'though': 5246,\n             'hallahan': 1,\n             'tk': 1,\n             'place': 3079,\n             'always': 3932,\n             'animals': 383,\n             'freezing': 29,\n             'out': 15940,\n             'isolation': 77,\n             'set': 3121,\n             'screen': 3201,\n             'upon': 1200,\n             'maybe': 3020,\n             'extremely': 1433,\n             'heard': 1514,\n             '35': 132,\n             'budget': 2272,\n             'placed': 272,\n             'named': 999,\n             'co': 758,\n             'existent': 223,\n             'drake': 72,\n             'absolutely': 2120,\n             'working': 1074,\n             'then': 8343,\n             'pocket': 63,\n             'ending': 2985,\n             'starters': 65,\n             'sat': 424,\n             'voice': 1341,\n             'blessing': 40,\n             'looks': 2878,\n             'want': 4550,\n             'davalos': 3,\n             'ugly': 473,\n             'equally': 557,\n             'four': 1148,\n             \"character's\": 415,\n             'sorely': 85,\n             'formerly': 46,\n             'faith': 308,\n             'disguise': 101,\n             'bizarre': 679,\n             \"shouldn't\": 491,\n             'simplistic': 151,\n             'decapitated': 34,\n             \"wasp's\": 1,\n             'kartalian': 1,\n             'sisters': 249,\n             'remains': 578,\n             'downright': 265,\n             'heart': 1638,\n             'anders': 35,\n             'sank': 28,\n             'water': 703,\n             'undeniably': 85,\n             'dean': 217,\n             'best': 7185,\n             \"dean's\": 9,\n             \"where's\": 93,\n             'guess': 1805,\n             'single': 1237,\n             'marks': 164,\n             'starts': 1514,\n             'guide': 192,\n             'predictable': 1154,\n             'estate': 140,\n             'wishes': 177,\n             'win': 584,\n             'unlikeable': 94,\n             \"carradine's\": 7,\n             'someone': 2805,\n             'head': 2020,\n             'awards': 281,\n             'atmosphere': 989,\n             'eaten': 128,\n             'despite': 1786,\n             'about': 15554,\n             'having': 3250,\n             'elga': 4,\n             'die': 1059,\n             'question': 889,\n             'straight': 1126,\n             'cane': 30,\n             'money': 2861,\n             'million': 516,\n             'turning': 473,\n             'share': 480,\n             'bartold': 1,\n             'children': 1487,\n             'forward': 934,\n             'yourself': 1315,\n             'johnny': 298,\n             'milligan': 21,\n             'pirahna': 2,\n             'milliagn': 1,\n             'sister': 912,\n             'utter': 338,\n             \"don't\": 9330,\n             'merry': 58,\n             'terrible': 1993,\n             'satisfied': 154,\n             'knew': 1237,\n             'frank': 513,\n             'bad': 8837,\n             'photographed': 176,\n             'within': 1085,\n             'times': 4096,\n             '136': 3,\n             'accounts': 84,\n             'carl': 120,\n             'almost': 3969,\n             'entire': 1894,\n             'been': 9859,\n             'roy': 182,\n             'clear': 1104,\n             'common': 705,\n             'literally': 679,\n             'similar': 1156,\n             'split': 178,\n             'awful': 2170,\n             'long': 4293,\n             \"film's\": 1263,\n             'plus': 875,\n             'norman': 133,\n             'fella': 21,\n             'tank': 110,\n             'removed': 161,\n             'axe': 82,\n             'listed': 170,\n             'carradine': 96,\n             'christopher': 468,\n             'disappointed': 1269,\n             'servants': 66,\n             'wife': 2199,\n             'total': 895,\n             'legacy': 102,\n             'obviously': 1601,\n             'isenberg': 1,\n             'eric': 268,\n             'freak': 174,\n             'regularly': 81,\n             'title': 1957,\n             \"'78\": 6,\n             \"they're\": 1545,\n             'tame': 147,\n             'tension': 692,\n             'were': 10099,\n             'written': 2130,\n             'jeff': 297,\n             'course': 3203,\n             'bother': 624,\n             'victims': 471,\n             'poorly': 904,\n             'aspect': 611,\n             'morrow': 26,\n             'alternate': 115,\n             'dollars': 303,\n             \"father's\": 233,\n             'mundanely': 2,\n             'crystal': 93,\n             'scene': 5817,\n             'first': 9420,\n             'tape': 377,\n             'quarter': 76,\n             \"brother's\": 78,\n             'obscure': 154,\n             'lot': 4925,\n             'acting': 7982,\n             'twist': 734,\n             'late': 1566,\n             'buck': 166,\n             'far': 3855,\n             'slow': 1450,\n             'produced': 817,\n             '1971': 106,\n             'servant': 93,\n             'annoying': 1313,\n             \"ask's\": 9,\n             'domergue': 9,\n             'piece': 2067,\n             'mixed': 379,\n             'eat': 355,\n             'dialogue': 1957,\n             'gregory': 85,\n             'erm': 25,\n             'fridge': 33,\n             'laura': 179,\n             'achieved': 207,\n             'save': 1438,\n             'painful': 553,\n             'excited': 293,\n             'freaky': 76,\n             'stung': 6,\n             'hear': 985,\n             'whodunit': 27,\n             'leslie': 183,\n             'arrival': 125,\n             'monson': 3,\n             'victoria': 99,\n             'however': 4339,\n             'brooke': 47,\n             'two': 7332,\n             'norden': 2,\n             'said': 2828,\n             'directing': 853,\n             'victim': 509,\n             'checked': 127,\n             'andy': 230,\n             'mills': 46,\n             'between': 4098,\n             'deceased': 112,\n             'boring': 2275,\n             'owned': 102,\n             'traffic': 102,\n             'piranha': 20,\n             'themselves': 1578,\n             'lawyer': 215,\n             'technically': 280,\n             'recording': 140,\n             'positive': 656,\n             'murder': 1166,\n             'crap': 1260,\n             'minutes': 3591,\n             'missing': 805,\n             'favour': 109,\n             'sound': 1693,\n             'yet': 3412,\n             'bethune': 2,\n             'tom': 760,\n             'heads': 400,\n             \"someone's\": 142,\n             'judging': 151,\n             'face': 2108,\n             'ivy': 28,\n             'right': 4178,\n             'igor': 22,\n             'death': 2227,\n             'paced': 425,\n             'greeted': 29,\n             'none': 1400,\n             'directed': 1687,\n             \"i've\": 4051,\n             'live': 1929,\n             'chore': 61,\n             'strange': 1187,\n             'cable': 376,\n             'mystery': 946,\n             'decides': 721,\n             'either': 2477,\n             'anyone': 3497,\n             'wanted': 1811,\n             'stories': 1323,\n             \"wasn't\": 2860,\n             'reality': 1216,\n             'muffled': 13,\n             'legendary': 270,\n             'spaghetti': 88,\n             'robert': 1206,\n             'we': 8089,\n             'ones': 1229,\n             'mitchum': 65,\n             'nothing': 5085,\n             'son': 1357,\n             'fit': 692,\n             'forget': 1006,\n             'flegma': 1,\n             'although': 3312,\n             'forties': 60,\n             'western': 701,\n             'fifties': 99,\n             'conventional': 155,\n             'provides': 481,\n             'exorcism': 29,\n             'killing': 948,\n             'anymore': 495,\n             'likable': 510,\n             'possessed': 174,\n             'past': 1617,\n             'line': 2431,\n             'every': 4878,\n             'point': 3893,\n             'lucidity': 2,\n             'feel': 3641,\n             'buddy': 296,\n             'except': 1551,\n             'writing': 1669,\n             'issue': 400,\n             'employee': 78,\n             'amazingly': 273,\n             'lost': 1918,\n             'miguel': 21,\n             'others': 2087,\n             'dad': 467,\n             'free': 937,\n             'started': 1295,\n             'slept': 59,\n             'incredibly': 867,\n             'until': 2403,\n             'care': 1789,\n             'dying': 445,\n             'possession': 91,\n             'mom': 390,\n             'rapid': 72,\n             'liking': 177,\n             'decently': 30,\n             'foreshadowed': 9,\n             'viewers': 1019,\n             'saw': 4064,\n             'rose': 230,\n             'owes': 88,\n             'priest': 290,\n             'realizes': 255,\n             'culminating': 45,\n             'demise': 109,\n             'emily': 146,\n             'off': 7010,\n             'family': 2997,\n             'glad': 660,\n             'affair': 491,\n             'spoken': 226,\n             \"hadn't\": 407,\n             'friend': 1794,\n             'badly': 833,\n             'member': 457,\n             'accuse': 36,\n             'under': 1827,\n             'worse': 1954,\n             'drama': 1756,\n             'mission': 358,\n             'waste': 1873,\n             'rental': 321,\n             'marched': 12,\n             'sun': 257,\n             'refugees': 30,\n             'need': 2369,\n             'compromised': 44,\n             'dvd': 2906,\n             'check': 1010,\n             'chopper': 35,\n             'rainy': 79,\n             'works': 1686,\n             'battle': 689,\n             'doctor': 690,\n             'workable': 13,\n             'scenes': 5908,\n             \"you'll\": 1754,\n             'quite': 4429,\n             'tears': 415,\n             'scenario': 237,\n             'complicated': 242,\n             'adamant': 13,\n             'those': 5672,\n             'did': 7061,\n             'missionary': 25,\n             'fee': 29,\n             'chemistry': 642,\n             'package': 115,\n             \"willis'\": 8,\n             'horrible': 1554,\n             'lt': 52,\n             'willis': 108,\n             'hollywood': 2094,\n             'pointed': 190,\n             'border': 120,\n             'chosen': 322,\n             'worst': 3289,\n             'heckling': 8,\n             'generation': 366,\n             'handle': 243,\n             'probably': 3628,\n             'america': 780,\n             'rekindle': 18,\n             'observations': 63,\n             'pesci': 24,\n             'last': 3621,\n             'self': 1520,\n             'recreate': 58,\n             'days': 1739,\n             '9': 1011,\n             'manage': 388,\n             'opposed': 200,\n             'glory': 194,\n             'unfunny': 328,\n             'septuagenarian': 2,\n             'bs': 40,\n             'political': 703,\n             'windmill': 13,\n             'never': 7425,\n             'certain': 1084,\n             'trampling': 9,\n             'relishing': 7,\n             'specials': 33,\n             'being': 7513,\n             'favorite': 1582,\n             'refine': 6,\n             'grievances': 6,\n             'words': 1286,\n             'age': 1321,\n             'routine': 285,\n             \"george's\": 21,\n             'step': 438,\n             'critical': 252,\n             'boom': 106,\n             ...})"
          },
          "metadata": {}
        }
      ]
    },
    {
      "cell_type": "code",
      "source": [
        "train_sequences = tokenizer.texts_to_sequences(X_train)\n",
        "train_sequences[0]"
      ],
      "metadata": {
        "execution": {
          "iopub.status.busy": "2024-04-30T09:34:41.733924Z",
          "iopub.execute_input": "2024-04-30T09:34:41.734305Z",
          "iopub.status.idle": "2024-04-30T09:34:47.133822Z",
          "shell.execute_reply.started": "2024-04-30T09:34:41.734277Z",
          "shell.execute_reply": "2024-04-30T09:34:47.132517Z"
        },
        "trusted": true,
        "id": "Fvgi12eNbtV2",
        "outputId": "7e48f9f0-b7b6-4eb9-c4f7-67b8335ca593"
      },
      "execution_count": null,
      "outputs": [
        {
          "execution_count": 98,
          "output_type": "execute_result",
          "data": {
            "text/plain": "[1,\n 2346,\n 1,\n 7,\n 4,\n 2957,\n 254,\n 37,\n 2,\n 693,\n 565,\n 6,\n 2,\n 535,\n 259,\n 17,\n 113,\n 60,\n 46,\n 1886,\n 4,\n 128,\n 13,\n 46,\n 560,\n 41,\n 5,\n 33,\n 1,\n 36,\n 80,\n 116,\n 41,\n 2,\n 401,\n 12,\n 7,\n 4,\n 1263,\n 5,\n 3411,\n 1,\n 7,\n 275,\n 6,\n 2,\n 2171,\n 68,\n 60,\n 966,\n 41,\n 293,\n 113,\n 52,\n 60,\n 1095,\n 89,\n 39,\n 22,\n 2706,\n 2706,\n 953,\n 1330,\n 7,\n 4,\n 4615,\n 3652,\n 266,\n 6,\n 167,\n 318,\n 9,\n 25,\n 2034,\n 1,\n 34,\n 116,\n 251,\n 82,\n 277,\n 765,\n 5,\n 259,\n 30,\n 180,\n 31,\n 2,\n 136,\n 1,\n 7,\n 131,\n 259,\n 17,\n 113,\n 3,\n 2706,\n 7,\n 266,\n 6,\n 2958,\n 2,\n 1,\n 13,\n 25,\n 4089,\n 465,\n 21,\n 12,\n 7,\n 4,\n 2308,\n 63,\n 5,\n 259,\n 677,\n 2,\n 596,\n 3,\n 1509,\n 905,\n 9,\n 2,\n 605,\n 2750,\n 180,\n 2,\n 399,\n 7,\n 5661,\n 3,\n 1,\n 357,\n 5,\n 3396,\n 2,\n 6647,\n 351,\n 1,\n 236,\n 2449,\n 244,\n 2,\n 838,\n 1,\n 19,\n 2,\n 2621,\n 742,\n 3,\n 2,\n 220,\n 6216,\n 95,\n 12,\n 18,\n 282,\n 148,\n 10,\n 7,\n 4,\n 18,\n 13,\n 5249,\n 2,\n 4976,\n 5,\n 2,\n 937,\n 5984,\n 3,\n 8506,\n 3293,\n 12,\n 28,\n 1,\n 37,\n 2,\n 2670,\n 19,\n 415,\n 282,\n 148]"
          },
          "metadata": {}
        }
      ]
    },
    {
      "cell_type": "code",
      "source": [
        "sequence_length = 200\n",
        "train_padded = pad_sequences(train_sequences, maxlen=sequence_length, padding='post', truncating='post')\n"
      ],
      "metadata": {
        "execution": {
          "iopub.status.busy": "2024-04-30T09:34:56.855087Z",
          "iopub.execute_input": "2024-04-30T09:34:56.855707Z",
          "iopub.status.idle": "2024-04-30T09:34:57.252047Z",
          "shell.execute_reply.started": "2024-04-30T09:34:56.855661Z",
          "shell.execute_reply": "2024-04-30T09:34:57.250886Z"
        },
        "trusted": true,
        "id": "E3688DbVbtV3"
      },
      "execution_count": null,
      "outputs": []
    },
    {
      "cell_type": "code",
      "source": [
        "test_sequences = tokenizer.texts_to_sequences(X_test)\n",
        "test_padded = pad_sequences(test_sequences, maxlen=sequence_length, padding='post', truncating='post')\n"
      ],
      "metadata": {
        "execution": {
          "iopub.status.busy": "2024-04-30T09:35:00.351962Z",
          "iopub.execute_input": "2024-04-30T09:35:00.352333Z",
          "iopub.status.idle": "2024-04-30T09:35:02.293114Z",
          "shell.execute_reply.started": "2024-04-30T09:35:00.352304Z",
          "shell.execute_reply": "2024-04-30T09:35:02.292148Z"
        },
        "trusted": true,
        "id": "ADWbFgEfbtV3"
      },
      "execution_count": null,
      "outputs": []
    },
    {
      "cell_type": "code",
      "source": [
        "embedding_dim = 16\n",
        "lstm_out = 32\n",
        "model = Sequential()"
      ],
      "metadata": {
        "execution": {
          "iopub.status.busy": "2024-04-30T09:35:36.343713Z",
          "iopub.execute_input": "2024-04-30T09:35:36.344458Z",
          "iopub.status.idle": "2024-04-30T09:35:36.350276Z",
          "shell.execute_reply.started": "2024-04-30T09:35:36.344418Z",
          "shell.execute_reply": "2024-04-30T09:35:36.349129Z"
        },
        "trusted": true,
        "id": "5eO6jjBJbtV3"
      },
      "execution_count": null,
      "outputs": []
    },
    {
      "cell_type": "code",
      "source": [
        "model.add(Embedding(vocab_size, embedding_dim, input_length=sequence_length))"
      ],
      "metadata": {
        "execution": {
          "iopub.status.busy": "2024-04-30T09:36:22.375426Z",
          "iopub.execute_input": "2024-04-30T09:36:22.376198Z",
          "iopub.status.idle": "2024-04-30T09:36:22.382753Z",
          "shell.execute_reply.started": "2024-04-30T09:36:22.376163Z",
          "shell.execute_reply": "2024-04-30T09:36:22.38111Z"
        },
        "trusted": true,
        "id": "QZEKigFbbtV3"
      },
      "execution_count": null,
      "outputs": []
    },
    {
      "cell_type": "code",
      "source": [
        "model.add(Bidirectional(LSTM(lstm_out)))"
      ],
      "metadata": {
        "execution": {
          "iopub.status.busy": "2024-04-30T09:36:25.37498Z",
          "iopub.execute_input": "2024-04-30T09:36:25.375501Z",
          "iopub.status.idle": "2024-04-30T09:36:25.394368Z",
          "shell.execute_reply.started": "2024-04-30T09:36:25.375461Z",
          "shell.execute_reply": "2024-04-30T09:36:25.393283Z"
        },
        "trusted": true,
        "id": "bM830oO4btV4"
      },
      "execution_count": null,
      "outputs": []
    },
    {
      "cell_type": "code",
      "source": [
        "model.add(Dense(10, activation='relu'))"
      ],
      "metadata": {
        "execution": {
          "iopub.status.busy": "2024-04-30T09:32:26.205798Z",
          "iopub.execute_input": "2024-04-30T09:32:26.206428Z",
          "iopub.status.idle": "2024-04-30T09:32:26.21402Z",
          "shell.execute_reply.started": "2024-04-30T09:32:26.206389Z",
          "shell.execute_reply": "2024-04-30T09:32:26.212763Z"
        },
        "trusted": true,
        "id": "3APGgbJcbtV4"
      },
      "execution_count": null,
      "outputs": []
    },
    {
      "cell_type": "code",
      "source": [
        "model.add(Dense(1,activation='sigmoid'))"
      ],
      "metadata": {
        "execution": {
          "iopub.status.busy": "2024-04-30T09:37:42.469974Z",
          "iopub.execute_input": "2024-04-30T09:37:42.470918Z",
          "iopub.status.idle": "2024-04-30T09:37:42.477567Z",
          "shell.execute_reply.started": "2024-04-30T09:37:42.470878Z",
          "shell.execute_reply": "2024-04-30T09:37:42.476251Z"
        },
        "trusted": true,
        "id": "22hvy8eibtV4"
      },
      "execution_count": null,
      "outputs": []
    },
    {
      "cell_type": "code",
      "source": [
        "model.compile(loss='binary_crossentropy',optimizer ='adam',metrics = ['accuracy'])"
      ],
      "metadata": {
        "execution": {
          "iopub.status.busy": "2024-04-30T09:39:17.391018Z",
          "iopub.execute_input": "2024-04-30T09:39:17.391403Z",
          "iopub.status.idle": "2024-04-30T09:39:17.404028Z",
          "shell.execute_reply.started": "2024-04-30T09:39:17.391365Z",
          "shell.execute_reply": "2024-04-30T09:39:17.402711Z"
        },
        "trusted": true,
        "id": "NdfKK8cAbtV4"
      },
      "execution_count": null,
      "outputs": []
    },
    {
      "cell_type": "code",
      "source": [
        "model.summary()"
      ],
      "metadata": {
        "execution": {
          "iopub.status.busy": "2024-04-30T09:39:19.791198Z",
          "iopub.execute_input": "2024-04-30T09:39:19.791606Z",
          "iopub.status.idle": "2024-04-30T09:39:19.813714Z",
          "shell.execute_reply.started": "2024-04-30T09:39:19.791571Z",
          "shell.execute_reply": "2024-04-30T09:39:19.812478Z"
        },
        "trusted": true,
        "id": "tGNk_9dhbtV4",
        "outputId": "c27b78e6-2a7a-47ac-c2ac-db903fd91fe7"
      },
      "execution_count": null,
      "outputs": [
        {
          "output_type": "display_data",
          "data": {
            "text/plain": "\u001b[1mModel: \"sequential_8\"\u001b[0m\n",
            "text/html": "<pre style=\"white-space:pre;overflow-x:auto;line-height:normal;font-family:Menlo,'DejaVu Sans Mono',consolas,'Courier New',monospace\"><span style=\"font-weight: bold\">Model: \"sequential_8\"</span>\n</pre>\n"
          },
          "metadata": {}
        },
        {
          "output_type": "display_data",
          "data": {
            "text/plain": "┏━━━━━━━━━━━━━━━━━━━━━━━━━━━━━━━━━┳━━━━━━━━━━━━━━━━━━━━━━━━┳━━━━━━━━━━━━━━━┓\n┃\u001b[1m \u001b[0m\u001b[1mLayer (type)                   \u001b[0m\u001b[1m \u001b[0m┃\u001b[1m \u001b[0m\u001b[1mOutput Shape          \u001b[0m\u001b[1m \u001b[0m┃\u001b[1m \u001b[0m\u001b[1m      Param #\u001b[0m\u001b[1m \u001b[0m┃\n┡━━━━━━━━━━━━━━━━━━━━━━━━━━━━━━━━━╇━━━━━━━━━━━━━━━━━━━━━━━━╇━━━━━━━━━━━━━━━┩\n│ embedding_8 (\u001b[38;5;33mEmbedding\u001b[0m)         │ ?                      │   \u001b[38;5;34m0\u001b[0m (unbuilt) │\n├─────────────────────────────────┼────────────────────────┼───────────────┤\n│ bidirectional_8 (\u001b[38;5;33mBidirectional\u001b[0m) │ ?                      │   \u001b[38;5;34m0\u001b[0m (unbuilt) │\n├─────────────────────────────────┼────────────────────────┼───────────────┤\n│ dense_12 (\u001b[38;5;33mDense\u001b[0m)                │ ?                      │   \u001b[38;5;34m0\u001b[0m (unbuilt) │\n├─────────────────────────────────┼────────────────────────┼───────────────┤\n│ dense_13 (\u001b[38;5;33mDense\u001b[0m)                │ ?                      │   \u001b[38;5;34m0\u001b[0m (unbuilt) │\n└─────────────────────────────────┴────────────────────────┴───────────────┘\n",
            "text/html": "<pre style=\"white-space:pre;overflow-x:auto;line-height:normal;font-family:Menlo,'DejaVu Sans Mono',consolas,'Courier New',monospace\">┏━━━━━━━━━━━━━━━━━━━━━━━━━━━━━━━━━┳━━━━━━━━━━━━━━━━━━━━━━━━┳━━━━━━━━━━━━━━━┓\n┃<span style=\"font-weight: bold\"> Layer (type)                    </span>┃<span style=\"font-weight: bold\"> Output Shape           </span>┃<span style=\"font-weight: bold\">       Param # </span>┃\n┡━━━━━━━━━━━━━━━━━━━━━━━━━━━━━━━━━╇━━━━━━━━━━━━━━━━━━━━━━━━╇━━━━━━━━━━━━━━━┩\n│ embedding_8 (<span style=\"color: #0087ff; text-decoration-color: #0087ff\">Embedding</span>)         │ ?                      │   <span style=\"color: #00af00; text-decoration-color: #00af00\">0</span> (unbuilt) │\n├─────────────────────────────────┼────────────────────────┼───────────────┤\n│ bidirectional_8 (<span style=\"color: #0087ff; text-decoration-color: #0087ff\">Bidirectional</span>) │ ?                      │   <span style=\"color: #00af00; text-decoration-color: #00af00\">0</span> (unbuilt) │\n├─────────────────────────────────┼────────────────────────┼───────────────┤\n│ dense_12 (<span style=\"color: #0087ff; text-decoration-color: #0087ff\">Dense</span>)                │ ?                      │   <span style=\"color: #00af00; text-decoration-color: #00af00\">0</span> (unbuilt) │\n├─────────────────────────────────┼────────────────────────┼───────────────┤\n│ dense_13 (<span style=\"color: #0087ff; text-decoration-color: #0087ff\">Dense</span>)                │ ?                      │   <span style=\"color: #00af00; text-decoration-color: #00af00\">0</span> (unbuilt) │\n└─────────────────────────────────┴────────────────────────┴───────────────┘\n</pre>\n"
          },
          "metadata": {}
        },
        {
          "output_type": "display_data",
          "data": {
            "text/plain": "\u001b[1m Total params: \u001b[0m\u001b[38;5;34m0\u001b[0m (0.00 B)\n",
            "text/html": "<pre style=\"white-space:pre;overflow-x:auto;line-height:normal;font-family:Menlo,'DejaVu Sans Mono',consolas,'Courier New',monospace\"><span style=\"font-weight: bold\"> Total params: </span><span style=\"color: #00af00; text-decoration-color: #00af00\">0</span> (0.00 B)\n</pre>\n"
          },
          "metadata": {}
        },
        {
          "output_type": "display_data",
          "data": {
            "text/plain": "\u001b[1m Trainable params: \u001b[0m\u001b[38;5;34m0\u001b[0m (0.00 B)\n",
            "text/html": "<pre style=\"white-space:pre;overflow-x:auto;line-height:normal;font-family:Menlo,'DejaVu Sans Mono',consolas,'Courier New',monospace\"><span style=\"font-weight: bold\"> Trainable params: </span><span style=\"color: #00af00; text-decoration-color: #00af00\">0</span> (0.00 B)\n</pre>\n"
          },
          "metadata": {}
        },
        {
          "output_type": "display_data",
          "data": {
            "text/plain": "\u001b[1m Non-trainable params: \u001b[0m\u001b[38;5;34m0\u001b[0m (0.00 B)\n",
            "text/html": "<pre style=\"white-space:pre;overflow-x:auto;line-height:normal;font-family:Menlo,'DejaVu Sans Mono',consolas,'Courier New',monospace\"><span style=\"font-weight: bold\"> Non-trainable params: </span><span style=\"color: #00af00; text-decoration-color: #00af00\">0</span> (0.00 B)\n</pre>\n"
          },
          "metadata": {}
        }
      ]
    },
    {
      "cell_type": "code",
      "source": [
        "checkpoint_filepath = os.getcwd()\n",
        "model_checkpoint_callback = ModelCheckpoint(filepath=checkpoint_filepath, save_weights_only=False, monitor='val_loss', mode='min', save_best_only=True)\n",
        "callbacks = [EarlyStopping(patience=2), model_checkpoint_callback]"
      ],
      "metadata": {
        "execution": {
          "iopub.status.busy": "2024-04-30T09:32:26.243388Z",
          "iopub.execute_input": "2024-04-30T09:32:26.24463Z",
          "iopub.status.idle": "2024-04-30T09:32:26.297057Z",
          "shell.execute_reply.started": "2024-04-30T09:32:26.244599Z",
          "shell.execute_reply": "2024-04-30T09:32:26.295203Z"
        },
        "trusted": true,
        "id": "ynA-9BFObtV4",
        "outputId": "358b6c80-09f6-4514-d5ec-e62f3a812e9d"
      },
      "execution_count": null,
      "outputs": [
        {
          "traceback": [
            "\u001b[0;31m---------------------------------------------------------------------------\u001b[0m",
            "\u001b[0;31mValueError\u001b[0m                                Traceback (most recent call last)",
            "Cell \u001b[0;32mIn[97], line 2\u001b[0m\n\u001b[1;32m      1\u001b[0m checkpoint_filepath \u001b[38;5;241m=\u001b[39m os\u001b[38;5;241m.\u001b[39mgetcwd()\n\u001b[0;32m----> 2\u001b[0m model_checkpoint_callback \u001b[38;5;241m=\u001b[39m \u001b[43mModelCheckpoint\u001b[49m\u001b[43m(\u001b[49m\u001b[43mfilepath\u001b[49m\u001b[38;5;241;43m=\u001b[39;49m\u001b[43mcheckpoint_filepath\u001b[49m\u001b[43m,\u001b[49m\u001b[43m \u001b[49m\u001b[43msave_weights_only\u001b[49m\u001b[38;5;241;43m=\u001b[39;49m\u001b[38;5;28;43;01mFalse\u001b[39;49;00m\u001b[43m,\u001b[49m\u001b[43m \u001b[49m\u001b[43mmonitor\u001b[49m\u001b[38;5;241;43m=\u001b[39;49m\u001b[38;5;124;43m'\u001b[39;49m\u001b[38;5;124;43mval_loss\u001b[39;49m\u001b[38;5;124;43m'\u001b[39;49m\u001b[43m,\u001b[49m\u001b[43m \u001b[49m\u001b[43mmode\u001b[49m\u001b[38;5;241;43m=\u001b[39;49m\u001b[38;5;124;43m'\u001b[39;49m\u001b[38;5;124;43mmin\u001b[39;49m\u001b[38;5;124;43m'\u001b[39;49m\u001b[43m,\u001b[49m\u001b[43m \u001b[49m\u001b[43msave_best_only\u001b[49m\u001b[38;5;241;43m=\u001b[39;49m\u001b[38;5;28;43;01mTrue\u001b[39;49;00m\u001b[43m)\u001b[49m\n\u001b[1;32m      3\u001b[0m callbacks \u001b[38;5;241m=\u001b[39m [EarlyStopping(patience\u001b[38;5;241m=\u001b[39m\u001b[38;5;241m2\u001b[39m), model_checkpoint_callback]\n",
            "File \u001b[0;32m/opt/conda/lib/python3.10/site-packages/keras/src/callbacks/model_checkpoint.py:191\u001b[0m, in \u001b[0;36mModelCheckpoint.__init__\u001b[0;34m(self, filepath, monitor, verbose, save_best_only, save_weights_only, mode, save_freq, initial_value_threshold)\u001b[0m\n\u001b[1;32m    189\u001b[0m \u001b[38;5;28;01melse\u001b[39;00m:\n\u001b[1;32m    190\u001b[0m     \u001b[38;5;28;01mif\u001b[39;00m \u001b[38;5;129;01mnot\u001b[39;00m \u001b[38;5;28mself\u001b[39m\u001b[38;5;241m.\u001b[39mfilepath\u001b[38;5;241m.\u001b[39mendswith(\u001b[38;5;124m\"\u001b[39m\u001b[38;5;124m.keras\u001b[39m\u001b[38;5;124m\"\u001b[39m):\n\u001b[0;32m--> 191\u001b[0m         \u001b[38;5;28;01mraise\u001b[39;00m \u001b[38;5;167;01mValueError\u001b[39;00m(\n\u001b[1;32m    192\u001b[0m             \u001b[38;5;124m\"\u001b[39m\u001b[38;5;124mThe filepath provided must end in `.keras` \u001b[39m\u001b[38;5;124m\"\u001b[39m\n\u001b[1;32m    193\u001b[0m             \u001b[38;5;124m\"\u001b[39m\u001b[38;5;124m(Keras model format). Received: \u001b[39m\u001b[38;5;124m\"\u001b[39m\n\u001b[1;32m    194\u001b[0m             \u001b[38;5;124mf\u001b[39m\u001b[38;5;124m\"\u001b[39m\u001b[38;5;124mfilepath=\u001b[39m\u001b[38;5;132;01m{\u001b[39;00m\u001b[38;5;28mself\u001b[39m\u001b[38;5;241m.\u001b[39mfilepath\u001b[38;5;132;01m}\u001b[39;00m\u001b[38;5;124m\"\u001b[39m\n\u001b[1;32m    195\u001b[0m         )\n",
            "\u001b[0;31mValueError\u001b[0m: The filepath provided must end in `.keras` (Keras model format). Received: filepath=/kaggle/working"
          ],
          "ename": "ValueError",
          "evalue": "The filepath provided must end in `.keras` (Keras model format). Received: filepath=/kaggle/working",
          "output_type": "error"
        }
      ]
    }
  ]
}